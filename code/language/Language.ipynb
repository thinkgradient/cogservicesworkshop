{
 "cells": [
  {
   "cell_type": "code",
   "execution_count": 37,
   "id": "b141c956",
   "metadata": {},
   "outputs": [
    {
     "name": "stdout",
     "output_type": "stream",
     "text": [
      "Collecting azure-ai-textanalytics==5.2.0b4\n",
      "  Downloading azure_ai_textanalytics-5.2.0b4-py3-none-any.whl (215 kB)\n",
      "Requirement already satisfied: azure-common~=1.1 in c:\\users\\faismali\\anaconda3\\lib\\site-packages (from azure-ai-textanalytics==5.2.0b4) (1.1.28)\n",
      "Requirement already satisfied: azure-core<2.0.0,>=1.19.1 in c:\\users\\faismali\\anaconda3\\lib\\site-packages (from azure-ai-textanalytics==5.2.0b4) (1.24.0)\n",
      "Requirement already satisfied: msrest>=0.6.21 in c:\\users\\faismali\\anaconda3\\lib\\site-packages (from azure-ai-textanalytics==5.2.0b4) (0.6.21)\n",
      "Requirement already satisfied: six>=1.11.0 in c:\\users\\faismali\\anaconda3\\lib\\site-packages (from azure-core<2.0.0,>=1.19.1->azure-ai-textanalytics==5.2.0b4) (1.16.0)\n",
      "Requirement already satisfied: requests>=2.18.4 in c:\\users\\faismali\\anaconda3\\lib\\site-packages (from azure-core<2.0.0,>=1.19.1->azure-ai-textanalytics==5.2.0b4) (2.27.1)\n",
      "Requirement already satisfied: typing-extensions>=4.0.1 in c:\\users\\faismali\\anaconda3\\lib\\site-packages (from azure-core<2.0.0,>=1.19.1->azure-ai-textanalytics==5.2.0b4) (4.1.1)\n",
      "Requirement already satisfied: certifi>=2017.4.17 in c:\\users\\faismali\\anaconda3\\lib\\site-packages (from msrest>=0.6.21->azure-ai-textanalytics==5.2.0b4) (2021.10.8)\n",
      "Requirement already satisfied: isodate>=0.6.0 in c:\\users\\faismali\\anaconda3\\lib\\site-packages (from msrest>=0.6.21->azure-ai-textanalytics==5.2.0b4) (0.6.1)\n",
      "Requirement already satisfied: requests-oauthlib>=0.5.0 in c:\\users\\faismali\\anaconda3\\lib\\site-packages (from msrest>=0.6.21->azure-ai-textanalytics==5.2.0b4) (1.3.1)\n",
      "Requirement already satisfied: idna<4,>=2.5 in c:\\users\\faismali\\anaconda3\\lib\\site-packages (from requests>=2.18.4->azure-core<2.0.0,>=1.19.1->azure-ai-textanalytics==5.2.0b4) (3.3)\n",
      "Requirement already satisfied: charset-normalizer~=2.0.0 in c:\\users\\faismali\\anaconda3\\lib\\site-packages (from requests>=2.18.4->azure-core<2.0.0,>=1.19.1->azure-ai-textanalytics==5.2.0b4) (2.0.4)\n",
      "Requirement already satisfied: urllib3<1.27,>=1.21.1 in c:\\users\\faismali\\anaconda3\\lib\\site-packages (from requests>=2.18.4->azure-core<2.0.0,>=1.19.1->azure-ai-textanalytics==5.2.0b4) (1.26.9)\n",
      "Requirement already satisfied: oauthlib>=3.0.0 in c:\\users\\faismali\\anaconda3\\lib\\site-packages (from requests-oauthlib>=0.5.0->msrest>=0.6.21->azure-ai-textanalytics==5.2.0b4) (3.2.0)\n",
      "Installing collected packages: azure-ai-textanalytics\n",
      "  Attempting uninstall: azure-ai-textanalytics\n",
      "    Found existing installation: azure-ai-textanalytics 5.2.0b2\n",
      "    Uninstalling azure-ai-textanalytics-5.2.0b2:\n",
      "      Successfully uninstalled azure-ai-textanalytics-5.2.0b2\n",
      "Successfully installed azure-ai-textanalytics-5.2.0b4\n"
     ]
    }
   ],
   "source": [
    "!pip install azure-ai-textanalytics==5.2.0b4"
   ]
  },
  {
   "cell_type": "markdown",
   "id": "43583f18",
   "metadata": {},
   "source": [
    "## KeyPhrase Extraction"
   ]
  },
  {
   "cell_type": "code",
   "execution_count": 38,
   "id": "954ffa1c",
   "metadata": {},
   "outputs": [],
   "source": [
    "from azure.core.credentials import AzureKeyCredential\n",
    "from azure.ai.textanalytics import TextAnalyticsClient\n"
   ]
  },
  {
   "cell_type": "code",
   "execution_count": 39,
   "id": "905499d9",
   "metadata": {},
   "outputs": [],
   "source": [
    "endpoint = \"https://fimslanguage.cognitiveservices.azure.com/\"\n",
    "key = \"\""
   ]
  },
  {
   "cell_type": "code",
   "execution_count": 40,
   "id": "186a6b95",
   "metadata": {},
   "outputs": [],
   "source": [
    "articles_that_mention_microsoft = []"
   ]
  },
  {
   "cell_type": "code",
   "execution_count": 41,
   "id": "ea941265",
   "metadata": {},
   "outputs": [],
   "source": [
    "text_analytics_client = TextAnalyticsClient(endpoint=endpoint, credential=AzureKeyCredential(key))\n"
   ]
  },
  {
   "cell_type": "code",
   "execution_count": 42,
   "id": "7e287a02",
   "metadata": {},
   "outputs": [],
   "source": [
    "articles = [\n",
    "        \"\"\"\n",
    "        Washington, D.C. Autumn in DC is a uniquely beautiful season. The leaves fall from the trees\n",
    "        in a city chock-full of forests, leaving yellow leaves on the ground and a clearer view of the\n",
    "        blue sky above...\n",
    "        \"\"\",\n",
    "        \"\"\"\n",
    "        Redmond, WA. In the past few days, Microsoft has decided to further postpone the start date of\n",
    "        its United States workers, due to the pandemic that rages with no end in sight...\n",
    "        \"\"\",\n",
    "        \"\"\"\n",
    "        Redmond, WA. Employees at Microsoft can be excited about the new coffee shop that will open on campus\n",
    "        once workers no longer have to work remotely...\n",
    "        \"\"\"\n",
    "    ]"
   ]
  },
  {
   "cell_type": "code",
   "execution_count": 43,
   "id": "5eefc547",
   "metadata": {},
   "outputs": [
    {
     "name": "stdout",
     "output_type": "stream",
     "text": [
      "Key phrases in article #1: D.C. Autumn, beautiful season, clearer view, blue sky, yellow leaves, Washington, DC, trees, city, forests, ground\n",
      "Key phrases in article #2: United States workers, start date, Redmond, WA, past, days, Microsoft, pandemic, end, sight\n",
      "Key phrases in article #3: new coffee shop, Redmond, WA, Employees, Microsoft, campus, workers\n"
     ]
    }
   ],
   "source": [
    "result = text_analytics_client.extract_key_phrases(articles)\n",
    "for idx, doc in enumerate(result):\n",
    "    if not doc.is_error:\n",
    "        print(\"Key phrases in article #{}: {}\".format(\n",
    "            idx + 1,\n",
    "            \", \".join(doc.key_phrases)\n",
    "        ))\n",
    "# [END extract_key_phrases]\n",
    "        if \"Microsoft\" in doc.key_phrases:\n",
    "            articles_that_mention_microsoft.append(str(idx + 1))"
   ]
  },
  {
   "cell_type": "code",
   "execution_count": 44,
   "id": "8a77b4c3",
   "metadata": {},
   "outputs": [
    {
     "name": "stdout",
     "output_type": "stream",
     "text": [
      "The articles that mention Microsoft are articles number: 2, 3. Those are the ones I'm interested in reading.\n"
     ]
    }
   ],
   "source": [
    "print(\n",
    "        \"The articles that mention Microsoft are articles number: {}. Those are the ones I'm interested in reading.\".format(\n",
    "            \", \".join(articles_that_mention_microsoft)\n",
    "        )\n",
    "    )"
   ]
  },
  {
   "cell_type": "markdown",
   "id": "18a54739",
   "metadata": {},
   "source": [
    "## Custom Classifier"
   ]
  },
  {
   "cell_type": "code",
   "execution_count": 1,
   "id": "f5164b0f",
   "metadata": {},
   "outputs": [],
   "source": [
    "from azure.core.credentials import AzureKeyCredential\n",
    "from azure.ai.textanalytics import (\n",
    "    TextAnalyticsClient,\n",
    "    MultiCategoryClassifyAction\n",
    ")"
   ]
  },
  {
   "cell_type": "code",
   "execution_count": null,
   "id": "ad14e46b",
   "metadata": {},
   "outputs": [],
   "source": []
  },
  {
   "cell_type": "code",
   "execution_count": null,
   "id": "26290781",
   "metadata": {},
   "outputs": [],
   "source": []
  },
  {
   "cell_type": "code",
   "execution_count": null,
   "id": "c52dd335",
   "metadata": {},
   "outputs": [],
   "source": []
  },
  {
   "cell_type": "code",
   "execution_count": null,
   "id": "17d76d5d",
   "metadata": {},
   "outputs": [],
   "source": []
  },
  {
   "cell_type": "code",
   "execution_count": null,
   "id": "2c4a949b",
   "metadata": {},
   "outputs": [],
   "source": []
  }
 ],
 "metadata": {
  "kernelspec": {
   "display_name": "Python 3 (ipykernel)",
   "language": "python",
   "name": "python3"
  },
  "language_info": {
   "codemirror_mode": {
    "name": "ipython",
    "version": 3
   },
   "file_extension": ".py",
   "mimetype": "text/x-python",
   "name": "python",
   "nbconvert_exporter": "python",
   "pygments_lexer": "ipython3",
   "version": "3.9.12"
  }
 },
 "nbformat": 4,
 "nbformat_minor": 5
}
