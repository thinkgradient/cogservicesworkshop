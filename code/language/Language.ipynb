{
 "cells": [
  {
   "cell_type": "code",
   "execution_count": null,
   "id": "b141c956",
   "metadata": {},
   "outputs": [],
   "source": [
    "!pip install azure-ai-textanalytics==5.2.0b4"
   ]
  },
  {
   "cell_type": "markdown",
   "id": "43583f18",
   "metadata": {},
   "source": [
    "## KeyPhrase Extraction"
   ]
  },
  {
   "cell_type": "code",
   "execution_count": null,
   "id": "954ffa1c",
   "metadata": {},
   "outputs": [],
   "source": [
    "from azure.core.credentials import AzureKeyCredential\n",
    "from azure.ai.textanalytics import TextAnalyticsClient\n",
    "import os"
   ]
  },
  {
   "cell_type": "code",
   "execution_count": null,
   "id": "905499d9",
   "metadata": {},
   "outputs": [],
   "source": [
    "endpoint = \"https://<language service name>.cognitiveservices.azure.com/\"\n",
    "key = \"\""
   ]
  },
  {
   "cell_type": "code",
   "execution_count": null,
   "id": "186a6b95",
   "metadata": {},
   "outputs": [],
   "source": [
    "articles_that_mention_microsoft = []"
   ]
  },
  {
   "cell_type": "code",
   "execution_count": null,
   "id": "ea941265",
   "metadata": {},
   "outputs": [],
   "source": [
    "text_analytics_client = TextAnalyticsClient(endpoint=endpoint, credential=AzureKeyCredential(key))\n"
   ]
  },
  {
   "cell_type": "code",
   "execution_count": null,
   "id": "7e287a02",
   "metadata": {},
   "outputs": [],
   "source": [
    "articles = [\n",
    "        \"\"\"\n",
    "        Washington, D.C. Autumn in DC is a uniquely beautiful season. The leaves fall from the trees\n",
    "        in a city chock-full of forests, leaving yellow leaves on the ground and a clearer view of the\n",
    "        blue sky above...\n",
    "        \"\"\",\n",
    "        \"\"\"\n",
    "        Redmond, WA. In the past few days, Microsoft has decided to further postpone the start date of\n",
    "        its United States workers, due to the pandemic that rages with no end in sight...\n",
    "        \"\"\",\n",
    "        \"\"\"\n",
    "        Redmond, WA. Employees at Microsoft can be excited about the new coffee shop that will open on campus\n",
    "        once workers no longer have to work remotely...\n",
    "        \"\"\"\n",
    "    ]"
   ]
  },
  {
   "cell_type": "code",
   "execution_count": null,
   "id": "5eefc547",
   "metadata": {},
   "outputs": [],
   "source": [
    "result = text_analytics_client.extract_key_phrases(articles)\n",
    "for idx, doc in enumerate(result):\n",
    "    if not doc.is_error:\n",
    "        print(\"Key phrases in article #{}: {}\".format(\n",
    "            idx + 1,\n",
    "            \", \".join(doc.key_phrases)\n",
    "        ))\n",
    "# [END extract_key_phrases]\n",
    "        if \"Microsoft\" in doc.key_phrases:\n",
    "            articles_that_mention_microsoft.append(str(idx + 1))"
   ]
  },
  {
   "cell_type": "code",
   "execution_count": null,
   "id": "8a77b4c3",
   "metadata": {},
   "outputs": [],
   "source": [
    "print(\n",
    "        \"The articles that mention Microsoft are articles number: {}. Those are the ones I'm interested in reading.\".format(\n",
    "            \", \".join(articles_that_mention_microsoft)\n",
    "        )\n",
    "    )"
   ]
  },
  {
   "cell_type": "markdown",
   "id": "18a54739",
   "metadata": {},
   "source": [
    "## Custom Classifier"
   ]
  },
  {
   "cell_type": "code",
   "execution_count": null,
   "id": "f5164b0f",
   "metadata": {},
   "outputs": [],
   "source": [
    "from azure.core.credentials import AzureKeyCredential\n",
    "from azure.ai.textanalytics import (\n",
    "    TextAnalyticsClient,\n",
    "    MultiCategoryClassifyAction\n",
    ")"
   ]
  },
  {
   "cell_type": "code",
   "execution_count": null,
   "id": "ad14e46b",
   "metadata": {},
   "outputs": [],
   "source": [
    "endpoint = \"https://<language service name>.cognitiveservices.azure.com/\"\n",
    "key = \"\"\n",
    "project_name = \"<model name>\"\n",
    "deployment_name = \"<deployment name>\"\n",
    "path_to_sample_document = \"../../data/language/moviesummary/Test/Action.txt\""
   ]
  },
  {
   "cell_type": "code",
   "execution_count": null,
   "id": "26290781",
   "metadata": {},
   "outputs": [],
   "source": [
    "text_analytics_client = TextAnalyticsClient(\n",
    "        endpoint=endpoint,\n",
    "        credential=AzureKeyCredential(key),\n",
    "    )"
   ]
  },
  {
   "cell_type": "code",
   "execution_count": null,
   "id": "c52dd335",
   "metadata": {},
   "outputs": [],
   "source": [
    "with open(path_to_sample_document) as fd:\n",
    "        document = [fd.read()]"
   ]
  },
  {
   "cell_type": "code",
   "execution_count": null,
   "id": "17d76d5d",
   "metadata": {},
   "outputs": [],
   "source": [
    "poller = text_analytics_client.begin_analyze_actions(\n",
    "        document,\n",
    "        actions=[\n",
    "            MultiCategoryClassifyAction(\n",
    "                project_name=project_name,\n",
    "                deployment_name=deployment_name\n",
    "            ),\n",
    "        ],\n",
    "    )"
   ]
  },
  {
   "cell_type": "code",
   "execution_count": null,
   "id": "2c4a949b",
   "metadata": {},
   "outputs": [],
   "source": [
    "document_results = poller.result()\n",
    "for doc, classification_results in zip(document, document_results):\n",
    "    for classification_result in classification_results:\n",
    "        if not classification_result.is_error:\n",
    "            classifications = classification_result.classifications\n",
    "            print(f\"\\nThe movie plot '{doc}' was classified as the following genres:\\n\")\n",
    "            for classification in classifications:\n",
    "                print(\"'{}' with confidence score {}.\".format(\n",
    "                    classification.category, classification.confidence_score\n",
    "                ))\n",
    "        else:\n",
    "            print(\"Movie plot '{}' has an error with code '{}' and message '{}'\".format(\n",
    "                doc, classification_result.code, classification_result.message\n",
    "            ))"
   ]
  },
  {
   "cell_type": "code",
   "execution_count": null,
   "id": "e1d5fcc5",
   "metadata": {},
   "outputs": [],
   "source": []
  }
 ],
 "metadata": {
  "kernelspec": {
   "display_name": "Python 3 (ipykernel)",
   "language": "python",
   "name": "python3"
  },
  "language_info": {
   "codemirror_mode": {
    "name": "ipython",
    "version": 3
   },
   "file_extension": ".py",
   "mimetype": "text/x-python",
   "name": "python",
   "nbconvert_exporter": "python",
   "pygments_lexer": "ipython3",
   "version": "3.9.12"
  }
 },
 "nbformat": 4,
 "nbformat_minor": 5
}
