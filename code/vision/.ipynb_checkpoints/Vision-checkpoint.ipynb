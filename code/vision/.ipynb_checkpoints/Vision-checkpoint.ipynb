{
 "cells": [
  {
   "cell_type": "code",
   "execution_count": 1,
   "id": "d7b65fbd",
   "metadata": {},
   "outputs": [
    {
     "name": "stdout",
     "output_type": "stream",
     "text": [
      "Collecting azure-cognitiveservices-vision-computervision\n",
      "  Downloading azure_cognitiveservices_vision_computervision-0.9.0-py2.py3-none-any.whl (39 kB)\n",
      "Requirement already satisfied: azure-common~=1.1 in c:\\users\\faismali\\anaconda3\\lib\\site-packages (from azure-cognitiveservices-vision-computervision) (1.1.28)\n",
      "Requirement already satisfied: msrest>=0.5.0 in c:\\users\\faismali\\anaconda3\\lib\\site-packages (from azure-cognitiveservices-vision-computervision) (0.6.21)\n",
      "Requirement already satisfied: requests~=2.16 in c:\\users\\faismali\\anaconda3\\lib\\site-packages (from msrest>=0.5.0->azure-cognitiveservices-vision-computervision) (2.27.1)\n",
      "Requirement already satisfied: isodate>=0.6.0 in c:\\users\\faismali\\anaconda3\\lib\\site-packages (from msrest>=0.5.0->azure-cognitiveservices-vision-computervision) (0.6.1)\n",
      "Requirement already satisfied: certifi>=2017.4.17 in c:\\users\\faismali\\anaconda3\\lib\\site-packages (from msrest>=0.5.0->azure-cognitiveservices-vision-computervision) (2021.10.8)\n",
      "Requirement already satisfied: requests-oauthlib>=0.5.0 in c:\\users\\faismali\\anaconda3\\lib\\site-packages (from msrest>=0.5.0->azure-cognitiveservices-vision-computervision) (1.3.1)\n",
      "Requirement already satisfied: six in c:\\users\\faismali\\anaconda3\\lib\\site-packages (from isodate>=0.6.0->msrest>=0.5.0->azure-cognitiveservices-vision-computervision) (1.16.0)\n",
      "Requirement already satisfied: charset-normalizer~=2.0.0 in c:\\users\\faismali\\anaconda3\\lib\\site-packages (from requests~=2.16->msrest>=0.5.0->azure-cognitiveservices-vision-computervision) (2.0.4)\n",
      "Requirement already satisfied: urllib3<1.27,>=1.21.1 in c:\\users\\faismali\\anaconda3\\lib\\site-packages (from requests~=2.16->msrest>=0.5.0->azure-cognitiveservices-vision-computervision) (1.26.9)\n",
      "Requirement already satisfied: idna<4,>=2.5 in c:\\users\\faismali\\anaconda3\\lib\\site-packages (from requests~=2.16->msrest>=0.5.0->azure-cognitiveservices-vision-computervision) (3.3)\n",
      "Requirement already satisfied: oauthlib>=3.0.0 in c:\\users\\faismali\\anaconda3\\lib\\site-packages (from requests-oauthlib>=0.5.0->msrest>=0.5.0->azure-cognitiveservices-vision-computervision) (3.2.0)\n",
      "Installing collected packages: azure-cognitiveservices-vision-computervision\n",
      "Successfully installed azure-cognitiveservices-vision-computervision-0.9.0\n"
     ]
    }
   ],
   "source": [
    "!pip install azure-cognitiveservices-vision-computervision\n"
   ]
  },
  {
   "cell_type": "code",
   "execution_count": 2,
   "id": "70ef40ae",
   "metadata": {},
   "outputs": [],
   "source": [
    "from azure.cognitiveservices.vision.computervision import ComputerVisionClient\n",
    "from msrest.authentication import CognitiveServicesCredentials\n",
    "from azure.cognitiveservices.vision.computervision.models import OperationStatusCodes\n",
    "from PIL import Image\n",
    "import time\n",
    "import os"
   ]
  },
  {
   "cell_type": "code",
   "execution_count": 3,
   "id": "d92c04e2",
   "metadata": {},
   "outputs": [],
   "source": [
    "key = ''\n",
    "endpoint = 'https://fimscomputervision.cognitiveservices.azure.com/'"
   ]
  },
  {
   "cell_type": "code",
   "execution_count": 4,
   "id": "810bbf50",
   "metadata": {},
   "outputs": [],
   "source": [
    "computervision_client = ComputerVisionClient(endpoint, CognitiveServicesCredentials(key))\n"
   ]
  },
  {
   "cell_type": "code",
   "execution_count": 7,
   "id": "1aefafc5",
   "metadata": {},
   "outputs": [],
   "source": [
    "def get_text(image_file,computervision_client):\n",
    "    # Open local image file\n",
    "    with open(image_file, \"rb\") as image:\n",
    "        # Call the API\n",
    "        read_response = computervision_client.read_in_stream(image, raw=True)\n",
    "\n",
    "    # Get the operation location (URL with an ID at the end)\n",
    "    read_operation_location = read_response.headers[\"Operation-Location\"]\n",
    "    # Grab the ID from the URL\n",
    "    operation_id = read_operation_location.split(\"/\")[-1]\n",
    "\n",
    "    # Retrieve the results \n",
    "    while True:\n",
    "        read_result = computervision_client.get_read_result(operation_id)\n",
    "        if read_result.status.lower() not in ['notstarted', 'running']:\n",
    "            break\n",
    "        time.sleep(1)\n",
    "\n",
    "    # Get the detected text\n",
    "    if read_result.status == OperationStatusCodes.succeeded:\n",
    "        for page in read_result.analyze_result.read_results:\n",
    "            for line in page.lines:\n",
    "                # Print line\n",
    "                print(line.text)\n"
   ]
  },
  {
   "cell_type": "code",
   "execution_count": 8,
   "id": "64b28aa2",
   "metadata": {},
   "outputs": [
    {
     "name": "stdout",
     "output_type": "stream",
     "text": [
      "Probability Theory:\n",
      "In order to define a probability on a set we need\n",
      "a few basic elements :\n",
      "1) The sample space Q:\n",
      "The sample space is the set of all possible\n",
      "outcomes of the experiment.\n",
      "2) The event space A :\n",
      "The event space is the space of all possible results\n",
      "of the experiment.\n",
      "3) The probability P:\n",
      "with each event A, we associate a number P(A)\n",
      "that measures the probability or degree of\n",
      "belief that the event will occur . P ( A ) is called\n",
      "the probability of A.\n"
     ]
    }
   ],
   "source": [
    "get_text(\"../../data/vision/notes1.jpg\",computervision_client)"
   ]
  },
  {
   "cell_type": "code",
   "execution_count": 9,
   "id": "93a64392",
   "metadata": {},
   "outputs": [
    {
     "name": "stdout",
     "output_type": "stream",
     "text": [
      "Artificial Intelligence - Introduction:\n",
      "(1) Artificial Intelligence:\n",
      "Any technique that enables computers to mimic\n",
      "human intelligence. It includes machine learning.\n",
      "(2) Machine Learning:\n",
      "A subset of Artificial Intelligence that includes\n",
      "techniques that enable machines to improve\n",
      "at tasks with experience. H includes deep\n",
      "learning.\n",
      "(3) Deep Learning:\n",
      "A subset of machine learning based on\n",
      "neural networks that permit a machine to\n",
      "train itself to perform a task.\n",
      "Algorithm:\n",
      "An algorithm is a sequence of calculations and\n",
      "rules used to solve a problem or analyze a set\n",
      "of data.\n"
     ]
    }
   ],
   "source": [
    "get_text(\"../../data/vision/notes2.jpg\",computervision_client)"
   ]
  },
  {
   "cell_type": "code",
   "execution_count": null,
   "id": "a3c25a8f",
   "metadata": {},
   "outputs": [],
   "source": []
  }
 ],
 "metadata": {
  "kernelspec": {
   "display_name": "Python 3 (ipykernel)",
   "language": "python",
   "name": "python3"
  },
  "language_info": {
   "codemirror_mode": {
    "name": "ipython",
    "version": 3
   },
   "file_extension": ".py",
   "mimetype": "text/x-python",
   "name": "python",
   "nbconvert_exporter": "python",
   "pygments_lexer": "ipython3",
   "version": "3.9.12"
  }
 },
 "nbformat": 4,
 "nbformat_minor": 5
}
